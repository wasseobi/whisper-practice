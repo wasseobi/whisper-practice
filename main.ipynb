{
 "cells": [
  {
   "cell_type": "code",
   "execution_count": null,
   "id": "a6f921c6",
   "metadata": {},
   "outputs": [],
   "source": [
    "import gradio as gr\n",
    "import whisper\n",
    "\n",
    "model = whisper.load_model(\"turbo\")\n",
    "\n",
    "with gr.Blocks() as demo:\n",
    "    gr.Markdown(\"# Voice Action Detection\")\n",
    "    with gr.Row():\n",
    "        with gr.Column():\n",
    "            audio_input = gr.Mic(label=\"Input Audio\", type=\"filepath\")\n",
    "        with gr.Column():\n",
    "            stt_output = gr.Textbox(label=\"Transcription\")\n",
    "    gr.Button(\"Submit\").click(\n",
    "        lambda audio: model.transcribe(audio)[\"text\"],\n",
    "        inputs=audio_input,\n",
    "        outputs=stt_output,\n",
    "    )\n",
    "    \n",
    "demo.launch()"
   ]
  },
  {
   "cell_type": "code",
   "execution_count": null,
   "id": "4b747aa5",
   "metadata": {},
   "outputs": [],
   "source": [
    "import gradio as gr\n",
    "from faster_whisper import WhisperModel\n",
    "\n",
    "model_size = \"large-v3\"\n",
    "model = WhisperModel(model_size, device=\"cuda\", compute_type=\"float16\")\n",
    "\n",
    "def transcribe(audio):\n",
    "    segments, _ = model.transcribe(audio, beam_size=5)\n",
    "    transcription = \" \".join([segment.text for segment in segments])\n",
    "    return transcription\n",
    "\n",
    "with gr.Blocks() as demo:\n",
    "    gr.Markdown(\"# Voice Action Detection\")\n",
    "    with gr.Row():\n",
    "        with gr.Column():\n",
    "            audio_input = gr.Mic(label=\"Input Audio\", type=\"filepath\")\n",
    "        with gr.Column():\n",
    "            stt_output = gr.Textbox(label=\"Transcription\")\n",
    "    gr.Button(\"Submit\").click(\n",
    "        lambda audio: model.transcribe(audio)[\"text\"],\n",
    "        inputs=audio_input,\n",
    "        outputs=stt_output,\n",
    "    )\n",
    "    \n",
    "demo.launch()"
   ]
  }
 ],
 "metadata": {
  "kernelspec": {
   "display_name": ".venv",
   "language": "python",
   "name": "python3"
  },
  "language_info": {
   "codemirror_mode": {
    "name": "ipython",
    "version": 3
   },
   "file_extension": ".py",
   "mimetype": "text/x-python",
   "name": "python",
   "nbconvert_exporter": "python",
   "pygments_lexer": "ipython3",
   "version": "3.12.9"
  }
 },
 "nbformat": 4,
 "nbformat_minor": 5
}
